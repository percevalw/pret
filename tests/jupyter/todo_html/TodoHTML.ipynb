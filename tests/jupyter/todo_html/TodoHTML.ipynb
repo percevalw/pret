{
 "cells": [
  {
   "cell_type": "code",
   "execution_count": null,
   "id": "03e4e00b-1ef0-479b-8391-59ff4ac15751",
   "metadata": {
    "tags": []
   },
   "outputs": [],
   "source": [
    "from pret import component, proxy, use_state, use_tracked\n",
    "from pret.ui.react import div, input, label, p\n",
    "\n",
    "state = proxy(\n",
    "    {\n",
    "        \"faire à manger\": True,\n",
    "        \"faire la vaisselle\": False,\n",
    "    },\n",
    "    remote_sync=True,\n",
    ")\n",
    "\n",
    "\n",
    "@component\n",
    "def TodoApp():\n",
    "    todos = use_tracked(state)\n",
    "    typed, set_typed = use_state(\"\")\n",
    "    num_remaining = sum(not ok for ok in todos.values())\n",
    "    plural = \"s\" if num_remaining > 1 else \"\"\n",
    "\n",
    "    def on_key_down(event):\n",
    "        if event.key == \"Enter\":\n",
    "            todos[typed] = False\n",
    "            set_typed(\"\")\n",
    "\n",
    "    return div(\n",
    "        *(\n",
    "            div(\n",
    "                input(\n",
    "                    checked=ok,\n",
    "                    type=\"checkbox\",\n",
    "                    id=todo.replace(\" \", \"-\"),\n",
    "                    on_change=lambda e, t=todo: todos.update({t: e.target.checked}),\n",
    "                ),\n",
    "                label(todo, **{\"for\": todo.replace(\" \", \"-\")}),\n",
    "            )\n",
    "            for todo, ok in todos.items()\n",
    "        ),\n",
    "        input(\n",
    "            value=typed,\n",
    "            on_change=lambda event: set_typed(event.target.value),\n",
    "            on_key_down=on_key_down,\n",
    "            placeholder=\"Add a todo\",\n",
    "        ),\n",
    "        p(f\"Number of unfinished todo{plural}: {num_remaining}\", level=\"body-md\"),\n",
    "    )\n",
    "\n",
    "\n",
    "TodoApp()"
   ]
  }
 ],
 "metadata": {
  "kernelspec": {
   "display_name": "pret",
   "language": "python",
   "name": "pret"
  },
  "language_info": {
   "codemirror_mode": {
    "name": "ipython",
    "version": 3
   },
   "file_extension": ".py",
   "mimetype": "text/x-python",
   "name": "python",
   "nbconvert_exporter": "python",
   "pygments_lexer": "ipython3",
   "version": "3.8.18"
  },
  "widgets": {
   "application/vnd.jupyter.widget-state+json": {
    "state": {},
    "version_major": 2,
    "version_minor": 0
   }
  }
 },
 "nbformat": 4,
 "nbformat_minor": 5
}
