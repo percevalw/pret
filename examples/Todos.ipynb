{
 "cells": [
  {
   "cell_type": "code",
   "execution_count": null,
   "id": "a126a75c-4b13-4c38-b71d-e38b20b6fc21",
   "metadata": {
    "tags": []
   },
   "outputs": [],
   "source": [
    "from pret import component, create_store, use_state, use_store_snapshot\n",
    "from pret.ui.joy import Checkbox, Input, Stack, Typography\n",
    "\n",
    "state = create_store(\n",
    "    {\n",
    "        \"faire à manger\": True,\n",
    "        \"faire la vaisselle\": False,\n",
    "    },\n",
    "    sync=False,\n",
    ")\n",
    "\n",
    "\n",
    "@component\n",
    "def TodoApp():\n",
    "    todos = use_store_snapshot(state)\n",
    "    typed, set_typed = use_state(\"\")\n",
    "    num_pending_todos = sum(not ok for ok in todos.values())\n",
    "    plural = \"s\" if num_pending_todos > 1 else \"\"\n",
    "\n",
    "    def on_key_down(event):\n",
    "        if event.key == \"Enter\":\n",
    "            todos[typed] = False\n",
    "            set_typed(\"\")\n",
    "\n",
    "    return Stack(\n",
    "        [\n",
    "            *(\n",
    "                Checkbox(\n",
    "                    label=todo,\n",
    "                    checked=ok,\n",
    "                    on_change=lambda e, t=todo: todos.update({t: e.target.checked}),\n",
    "                )\n",
    "                for todo, ok in todos.items()\n",
    "            ),\n",
    "            Input(\n",
    "                value=typed,\n",
    "                on_change=lambda event: set_typed(event.target.value),\n",
    "                on_key_down=on_key_down,\n",
    "                placeholder=\"Add a todo\",\n",
    "            ),\n",
    "            Typography(\n",
    "                f\"Number of unfinished todo{plural}: {num_pending_todos}\",\n",
    "                level=\"body-md\",\n",
    "            ),\n",
    "        ],\n",
    "        spacing=2,\n",
    "        sx={\"m\": 1},\n",
    "    )\n",
    "\n",
    "\n",
    "TodoApp()"
   ]
  }
 ],
 "metadata": {
  "kernelspec": {
   "display_name": "pret",
   "language": "python",
   "name": "pret"
  },
  "language_info": {
   "codemirror_mode": {
    "name": "ipython",
    "version": 3
   },
   "file_extension": ".py",
   "mimetype": "text/x-python",
   "name": "python",
   "nbconvert_exporter": "python",
   "pygments_lexer": "ipython3",
   "version": "3.8.18"
  },
  "widgets": {
   "application/vnd.jupyter.widget-state+json": {
    "state": {},
    "version_major": 2,
    "version_minor": 0
   }
  }
 },
 "nbformat": 4,
 "nbformat_minor": 5
}
